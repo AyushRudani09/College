{
 "cells": [
  {
   "cell_type": "markdown",
   "metadata": {},
   "source": [
    "\n",
    "<a href='https://www.darshan.ac.in/'> <img src='https://www.darshan.ac.in/Content/media/DU_Logo.svg' width=\"250\" height=\"300\"/></a>\n",
    "<pre>\n",
    "<center><b><h1>Python Programming - 2101CS405</b></center>\n",
    "<center><b><h1>Lab - 2</b></center>    \n",
    "<pre>"
   ]
  },
  {
   "cell_type": "markdown",
   "metadata": {},
   "source": [
    "# if..else.."
   ]
  },
  {
   "cell_type": "markdown",
   "metadata": {},
   "source": [
    "### 01) WAP to check whether the given number is positive or negative."
   ]
  },
  {
   "cell_type": "code",
   "execution_count": null,
   "metadata": {},
   "outputs": [],
   "source": [
    "print(\"Enter Number : \");\n",
    "n = int(input());\n",
    "if(n>=0):\n",
    "    print(n,\"is positive\");\n",
    "else:\n",
    "    print(n,\"is nagative\");"
   ]
  },
  {
   "cell_type": "markdown",
   "metadata": {},
   "source": [
    "### 02) WAP to check whether the given number is odd or even"
   ]
  },
  {
   "cell_type": "code",
   "execution_count": null,
   "metadata": {},
   "outputs": [],
   "source": [
    "print(\"Enter Number : \");\n",
    "n = int(input());\n",
    "if(n%2==0):\n",
    "    print(n,\"is even\");\n",
    "else:\n",
    "    print(n,\"is odd\");"
   ]
  },
  {
   "cell_type": "markdown",
   "metadata": {},
   "source": [
    "### 03) WAP to find out largest number from given two numbers using simple if and ternary operator."
   ]
  },
  {
   "cell_type": "code",
   "execution_count": null,
   "metadata": {},
   "outputs": [],
   "source": [
    "print(\"Enter Number : \");\n",
    "n1 = int(input());\n",
    "print(\"Enter Number : \");\n",
    "n2 = int(input());\n",
    "print(n1) if n1 > n2 else print(n2);"
   ]
  },
  {
   "cell_type": "markdown",
   "metadata": {},
   "source": [
    "### 04) WAP to find out largest number from given three numbers."
   ]
  },
  {
   "cell_type": "code",
   "execution_count": null,
   "metadata": {},
   "outputs": [],
   "source": [
    "print(\"Enter Number : \");\n",
    "n1 = int(input());\n",
    "print(\"Enter Number : \");\n",
    "n2 = int(input());\n",
    "print(\"Enter Number : \");\n",
    "n3 = int(input());\n",
    "print(n1)if n1 > n3 else print(n3) if n1 > n2 else print(n2) if n2 > n3 else print(n3);"
   ]
  },
  {
   "cell_type": "markdown",
   "metadata": {},
   "source": [
    "### 05) WAP to check whether the given year is leap year or not.\n",
    "[If a year can be divisible by 4 but not divisible by 100 then it is leap year but if it is divisible by 400 then it is leap year]"
   ]
  },
  {
   "cell_type": "code",
   "execution_count": null,
   "metadata": {},
   "outputs": [],
   "source": [
    "print(\"Enter Year : \");\n",
    "year = int(input());\n",
    "if (year % 400 == 0) and (year % 100 == 0):\n",
    "    print(\"is a leap year\")\n",
    "elif (year % 4 ==0) and (year % 100 != 0):\n",
    "    print(\"is a leap year\")\n",
    "else:\n",
    "    print(\"is not a leap year\")"
   ]
  },
  {
   "cell_type": "markdown",
   "metadata": {},
   "source": [
    "### 06) WAP in python to display the name of the day according to the number given by the user"
   ]
  },
  {
   "cell_type": "code",
   "execution_count": 3,
   "metadata": {},
   "outputs": [
    {
     "name": "stdout",
     "output_type": "stream",
     "text": [
      "Enter Day Number : \n",
      "Tuesday\n"
     ]
    }
   ],
   "source": [
    "print(\"Enter Day Number : \");\n",
    "n = int(input());\n",
    "if(n==1):\n",
    "    print(\"Monday\");\n",
    "elif(n==2):\n",
    "    print(\"Tuesday\")\n",
    "elif(n==3):\n",
    "    print(\"Wednesday \")   \n",
    "elif(n==4):\n",
    "    print(\"Thursday \")   \n",
    "elif(n==5):\n",
    "    print(\"Friday \")   \n",
    "elif(n==6):\n",
    "    print(\"Saturday \")   \n",
    "elif(n==7):\n",
    "    print(\"Sunday \")   \n",
    "else:\n",
    "    print(\"wrong\")"
   ]
  },
  {
   "cell_type": "markdown",
   "metadata": {},
   "source": [
    "### 07) WAP to implement simple calculator which performs (add,sub,mul,div) of two no. based on user input."
   ]
  },
  {
   "cell_type": "code",
   "execution_count": 2,
   "metadata": {},
   "outputs": [
    {
     "name": "stdout",
     "output_type": "stream",
     "text": [
      "Enter Number : \n",
      "Enter Number : \n",
      "1.Sum\n",
      "2.Sub\n",
      "3.Div\n",
      "4.Mul\n",
      "12\n"
     ]
    }
   ],
   "source": [
    "print(\"Enter Number : \");\n",
    "a = int(input());\n",
    "print(\"Enter Number : \");\n",
    "b = int(input());\n",
    "print(\"1.Sum\\n2.Sub\\n3.Div\\n4.Mul\");\n",
    "c = int(input());\n",
    "if(c==1):\n",
    "    print(a+b);\n",
    "elif(c==2):\n",
    "    print(a-b);\n",
    "elif(c==3):\n",
    "    print(a/b);\n",
    "elif(c==4):\n",
    "    print(a*b);\n",
    "else:\n",
    "    print(\"Wrong Input\")"
   ]
  },
  {
   "cell_type": "markdown",
   "metadata": {},
   "source": [
    "### 08) WAP to calculate electricity bill based on following criteria. Which takes the unit from the user.\n",
    "a. First 1 to 50 units – Rs. 2.60/unit</br>\n",
    "b. Next 50 to 100 units – Rs. 3.25/unit</br>\n",
    "c. Next 100 to 200 units – Rs. 5.26/unit</br>\n",
    "d. above 200 units – Rs. 8.45/unit"
   ]
  },
  {
   "cell_type": "code",
   "execution_count": null,
   "metadata": {},
   "outputs": [],
   "source": [
    "print(\"Enter Units : \");\n",
    "u = int(input());\n",
    "if(u>=1 and u<=50):\n",
    "    print(2.60*u);\n",
    "elif(u>50 and u<=100):\n",
    "    \n",
    "    "
   ]
  },
  {
   "cell_type": "markdown",
   "metadata": {},
   "source": [
    "### 01) WAP to read marks of five subjects. Calculate percentage and print class accordingly. \n",
    "Fail below 35 </br>\n",
    "Pass Class between 35 to 45 </br>\n",
    "Second Class</br>\n",
    "between 45 to 60</br>\n",
    "First Class between 60 to 70</br> \n",
    "Distinction if more than 70"
   ]
  },
  {
   "cell_type": "code",
   "execution_count": null,
   "metadata": {},
   "outputs": [],
   "source": [
    "print(\"Enter Mark of sub1 : \");\n",
    "sub1 = int(input());\n",
    "print(\"Enter Mark of sub2 : \");\n",
    "sub2 = int(input());\n",
    "print(\"Enter Mark of sub3 : \");\n",
    "sub3 = int(input());\n",
    "print(\"Enter Mark of sub4 : \");\n",
    "sub4 = int(input());\n",
    "print(\"Enter Mark of sub5 : \");\n",
    "sub5 = int(input());\n",
    "total = sub1+sub2+sub3+sub4+sub5;\n",
    "p = total/5;\n",
    "print(\"Per : \", p);\n",
    "if(p<35):\n",
    "    print(\"Fail\");\n",
    "elif(p<45):\n",
    "    print(\"Pass Class\");\n",
    "elif(p<60):\n",
    "    print(\"Second Class\");\n",
    "elif(p<70):\n",
    "    print(\"First Class\");\n",
    "else:\n",
    "    print(\"Distinction\");"
   ]
  },
  {
   "cell_type": "markdown",
   "metadata": {},
   "source": [
    "### 02) WAP to find out the Maximum and Minimum number from given 4 numbers."
   ]
  },
  {
   "cell_type": "code",
   "execution_count": 10,
   "metadata": {},
   "outputs": [
    {
     "name": "stdout",
     "output_type": "stream",
     "text": [
      "Enter Number1 : \n",
      "Enter Number2 : \n",
      "Enter Number3 : \n",
      "Enter Number4 : \n",
      "Max 40\n"
     ]
    }
   ],
   "source": [
    "print(\"Enter Number1 : \");\n",
    "n1 = int(input());\n",
    "print(\"Enter Number2 : \");\n",
    "n2 = int(input());\n",
    "print(\"Enter Number3 : \");\n",
    "n3 = int(input());\n",
    "print(\"Enter Number4 : \");\n",
    "n4 = int(input());\n",
    "if(n1>n2):\n",
    "    if(n1>n3):\n",
    "        if(n1>n4):\n",
    "            print(\"max\",n1);\n",
    "        else:\n",
    "            print(\"max\",n4);\n",
    "    else:\n",
    "        if(n3>n4):\n",
    "            print(\"max\",n3);\n",
    "        else:\n",
    "            print(\"max\",n4);\n",
    "else:\n",
    "    if(n2>n3):\n",
    "        if(n2>n4):\n",
    "            print(\"Max\",n2);\n",
    "        else:\n",
    "            print(\"max\",n4);\n",
    "    else:\n",
    "        if(n3>n4):\n",
    "            print(\"max\",n3);\n",
    "        else:\n",
    "            print(\"max\",n4);       \n"
   ]
  },
  {
   "cell_type": "markdown",
   "metadata": {},
   "source": [
    "### 03) WAP to input an integer number and check the last digit of number is even or odd."
   ]
  },
  {
   "cell_type": "code",
   "execution_count": 11,
   "metadata": {},
   "outputs": [
    {
     "name": "stdout",
     "output_type": "stream",
     "text": [
      "Enter Number : \n",
      "even\n"
     ]
    }
   ],
   "source": [
    "print(\"Enter Number : \");\n",
    "n = int(input());\n",
    "a = n%10;\n",
    "if(a%2==0):\n",
    "    print(\"even\");\n",
    "else:\n",
    "    print(\"Odd\");"
   ]
  },
  {
   "cell_type": "markdown",
   "metadata": {},
   "source": [
    "### 04) WAP to determine the roots of the equation ax2+bx+c=0."
   ]
  },
  {
   "cell_type": "code",
   "execution_count": 26,
   "metadata": {},
   "outputs": [
    {
     "name": "stdout",
     "output_type": "stream",
     "text": [
      "Equation is ax2+bx+c = 0\n",
      "Enter a  :\n",
      "Enter b : \n",
      "Enter c : \n",
      "17\n",
      "Root1 :  -0.21922359359558485 \n",
      "Root2 :  -2.2807764064044154\n"
     ]
    }
   ],
   "source": [
    "print(\"Equation is ax2+bx+c = 0\");\n",
    "print(\"Enter a  :\");\n",
    "a = int(input());\n",
    "print(\"Enter b : \");\n",
    "b = int(input());\n",
    "print(\"Enter c : \");\n",
    "c = int(input());\n",
    "d = (b**2)-(4*a*c);\n",
    "print(d)\n",
    "if(d>0):\n",
    "    r1 = (-b + d**0.5)/(2*a);\n",
    "    r2 = (-b - d**0.5)/(2*a);\n",
    "    print(\"Root1 : \",r1,\"\\nRoot2 : \",r2);\n",
    "elif(d==0):\n",
    "    r = -b/2*a;\n",
    "    print(\"Roots Are : \",r);\n",
    "else:\n",
    "    r = ((d*-1)**0.5)/2*a;\n",
    "    print(\"Root1 : \",-b/2*a,\"+\",r,\"i\",\"\\nRoot2 : \",-b/2*a,\"-\",r,\"i\");\n"
   ]
  }
 ],
 "metadata": {
  "kernelspec": {
   "display_name": "Python 3.10.8 64-bit",
   "language": "python",
   "name": "python3"
  },
  "language_info": {
   "codemirror_mode": {
    "name": "ipython",
    "version": 3
   },
   "file_extension": ".py",
   "mimetype": "text/x-python",
   "name": "python",
   "nbconvert_exporter": "python",
   "pygments_lexer": "ipython3",
   "version": "3.10.8"
  },
  "vscode": {
   "interpreter": {
    "hash": "369f2c481f4da34e4445cda3fffd2e751bd1c4d706f27375911949ba6bb62e1c"
   }
  }
 },
 "nbformat": 4,
 "nbformat_minor": 4
}
