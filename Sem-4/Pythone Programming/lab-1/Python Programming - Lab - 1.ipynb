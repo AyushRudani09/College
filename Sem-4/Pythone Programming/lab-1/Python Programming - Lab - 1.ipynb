{
 "cells": [
  {
   "cell_type": "markdown",
   "metadata": {},
   "source": [
    "<a href='https://www.darshan.ac.in/'> <img src='https://www.darshan.ac.in/Content/media/DU_Logo.svg' width=\"250\" height=\"300\"/></a>\n",
    "<pre>\n",
    "<center><b><h1>Python Programming - 2101CS405</b></center>\n",
    "<center><b><h1>Lab - 1</b></center>    \n",
    "<pre>"
   ]
  },
  {
   "cell_type": "markdown",
   "metadata": {},
   "source": [
    "### 01) WAP to print “Hello World”"
   ]
  },
  {
   "cell_type": "code",
   "execution_count": 1,
   "metadata": {},
   "outputs": [
    {
     "name": "stdout",
     "output_type": "stream",
     "text": [
      "Hello World\n"
     ]
    }
   ],
   "source": [
    "print(\"Hello World\")"
   ]
  },
  {
   "cell_type": "markdown",
   "metadata": {},
   "source": [
    "### 02) WAP to print your address i) using single print ii) using multiple print"
   ]
  },
  {
   "cell_type": "code",
   "execution_count": 4,
   "metadata": {},
   "outputs": [
    {
     "name": "stdout",
     "output_type": "stream",
     "text": [
      "Address line1\n",
      "Address line2\n",
      "Address line3\n",
      "Address line1\n",
      "Address line2\n",
      "Address line3\n"
     ]
    }
   ],
   "source": [
    "#Using Single print\n",
    "print(\"Address line1\\nAddress line2\\nAddress line3\")\n",
    "#Using multiple print\n",
    "print(\"Address line1\")\n",
    "print(\"Address line2\")\n",
    "print(\"Address line3\")"
   ]
  },
  {
   "cell_type": "markdown",
   "metadata": {},
   "source": [
    "### 03) WAP to print addition of 2 numbers (without input function)"
   ]
  },
  {
   "cell_type": "code",
   "execution_count": 10,
   "metadata": {},
   "outputs": [
    {
     "name": "stdout",
     "output_type": "stream",
     "text": [
      "30\n"
     ]
    }
   ],
   "source": [
    "a = 10;\n",
    "b = 20;\n",
    "print(a+b)"
   ]
  },
  {
   "cell_type": "markdown",
   "metadata": {},
   "source": [
    "### 04) WAP to calculate and print average of 2 numbers (without input function)"
   ]
  },
  {
   "cell_type": "code",
   "execution_count": 11,
   "metadata": {},
   "outputs": [
    {
     "name": "stdout",
     "output_type": "stream",
     "text": [
      "15.0\n"
     ]
    }
   ],
   "source": [
    "a = 10;\n",
    "b = 20;\n",
    "print((a+b)/2)"
   ]
  },
  {
   "cell_type": "markdown",
   "metadata": {},
   "source": [
    "### 05) WAP to add two number entered by user."
   ]
  },
  {
   "cell_type": "code",
   "execution_count": 15,
   "metadata": {},
   "outputs": [
    {
     "name": "stdout",
     "output_type": "stream",
     "text": [
      "Enter Number 1 : 10\n",
      "Enter Number 2 : 20\n",
      "30\n"
     ]
    }
   ],
   "source": [
    "print(\"Enter Number 1 : \",end=\"\");\n",
    "a = int(input());\n",
    "print(\"Enter Number 2 : \",end=\"\");\n",
    "b = int(input());\n",
    "print(a+b);"
   ]
  },
  {
   "cell_type": "markdown",
   "metadata": {},
   "source": [
    "### 06) WAP to calculate simple interest."
   ]
  },
  {
   "cell_type": "code",
   "execution_count": 18,
   "metadata": {},
   "outputs": [
    {
     "name": "stdout",
     "output_type": "stream",
     "text": [
      "Enter P : 10\n",
      "Enter R : 10\n",
      "Enter N : 10\n",
      "Your SI is 10.0\n"
     ]
    }
   ],
   "source": [
    "print(\"Enter P : \",end=\"\");\n",
    "p = int(input());\n",
    "print(\"Enter R : \",end=\"\");\n",
    "r = int(input());\n",
    "print(\"Enter N : \",end=\"\");\n",
    "n = int(input());\n",
    "SI = (p*r*n)/100;\n",
    "print(\"Your SI is \" + str(SI));"
   ]
  },
  {
   "cell_type": "markdown",
   "metadata": {},
   "source": [
    "### 07) WAP Calculate Area and Circumfrence of Circle"
   ]
  },
  {
   "cell_type": "code",
   "execution_count": 21,
   "metadata": {},
   "outputs": [
    {
     "name": "stdout",
     "output_type": "stream",
     "text": [
      "Enter R : 10\n",
      "Area is 314.0\n",
      "Circumfrence is 62.800000000000004\n"
     ]
    }
   ],
   "source": [
    "print(\"Enter R : \",end=\"\");\n",
    "r = int(input());\n",
    "area = r*r*3.14;\n",
    "circumfrence = 2*3.14*r;\n",
    "print(\"Area is \" + str(area));\n",
    "print(\"Circumfrence is \" + str(circumfrence))"
   ]
  },
  {
   "cell_type": "markdown",
   "metadata": {},
   "source": [
    "### 08) WAP to print Multiplication table of given number without using loops."
   ]
  },
  {
   "cell_type": "code",
   "execution_count": 33,
   "metadata": {},
   "outputs": [
    {
     "name": "stdout",
     "output_type": "stream",
     "text": [
      "Enter Number : \n",
      "10\n",
      "Table of 10\n",
      "10 x 1 = 10\n",
      "10 x 2 = 20\n",
      "10 x 3 = 30\n",
      "10 x 4 = 40\n",
      "10 x 5 = 50\n",
      "10 x 6 = 60\n",
      "10 x 7 = 70\n",
      "10 x 8 = 80\n",
      "10 x 9 = 90\n",
      "10 x 10 = 100\n"
     ]
    }
   ],
   "source": [
    "print(\"Enter Number : \");\n",
    "n = int(input());\n",
    "print(\"Table of \" + str(n));\n",
    "print(str(n)+' x 1 = '+str(n*1));\n",
    "print(str(n)+' x 2 = '+str(n*2));\n",
    "print(str(n)+' x 3 = '+str(n*3));\n",
    "print(str(n)+' x 4 = '+str(n*4));\n",
    "print(str(n)+' x 5 = '+str(n*5));\n",
    "print(str(n)+' x 6 = '+str(n*6));\n",
    "print(str(n)+' x 7 = '+str(n*7));\n",
    "print(str(n)+' x 8 = '+str(n*8));\n",
    "print(str(n)+' x 9 = '+str(n*9));\n",
    "print(str(n)+' x 10 = '+str(n*10));"
   ]
  },
  {
   "cell_type": "markdown",
   "metadata": {},
   "source": [
    "### 09) WAP to calculate Area of Triangle (hint: a = h * b * 0.5)"
   ]
  },
  {
   "cell_type": "code",
   "execution_count": 31,
   "metadata": {},
   "outputs": [
    {
     "name": "stdout",
     "output_type": "stream",
     "text": [
      "Enter Height : \n",
      "10\n",
      "Enter Base: \n",
      "20\n",
      "Area is  100.0\n"
     ]
    }
   ],
   "source": [
    "print(\"Enter Height : \");\n",
    "h = int(input());\n",
    "print(\"Enter Base: \");\n",
    "b= int(input());\n",
    "area = h*b*0.5;\n",
    "print(\"Area is \",area);"
   ]
  },
  {
   "cell_type": "markdown",
   "metadata": {},
   "source": [
    "### 10) WAP to convert degree to Fahrenheit and vice versa."
   ]
  },
  {
   "cell_type": "code",
   "execution_count": 61,
   "metadata": {},
   "outputs": [
    {
     "name": "stdout",
     "output_type": "stream",
     "text": [
      "Enter Temp in C : \n",
      "0\n",
      "Temp in Fahrenheit :  32.0\n",
      "Enter Temp in F\n",
      "32\n",
      "Temp in Degree :  0.0\n"
     ]
    }
   ],
   "source": [
    "print(\"Enter Temp in C : \");\n",
    "c = int(input());\n",
    "f = (c * 9/5) + 32;\n",
    "print(\"Temp in Fahrenheit : \" , f);\n",
    "print(\"Enter Temp in F\");\n",
    "f = int(input());\n",
    "c = ((f-32)*5)/9\n",
    "print(\"Temp in Degree : \",c)"
   ]
  },
  {
   "cell_type": "markdown",
   "metadata": {},
   "source": [
    "### 11) WAP to calculate total marks and Percentage."
   ]
  },
  {
   "cell_type": "code",
   "execution_count": 36,
   "metadata": {},
   "outputs": [
    {
     "name": "stdout",
     "output_type": "stream",
     "text": [
      "Enter Mark of sub1 : \n",
      "100\n",
      "Enter Mark of sub2 : \n",
      "100\n",
      "Enter Mark of sub3 : \n",
      "95\n",
      "Enter Mark of sub4 : \n",
      "94\n",
      "Enter Mark of sub5 : \n",
      "96\n",
      "Total is  485 Percentage is  97.0 %\n"
     ]
    }
   ],
   "source": [
    "print(\"Enter Mark of sub1 : \");\n",
    "sub1 = int(input());\n",
    "print(\"Enter Mark of sub2 : \");\n",
    "sub2 = int(input());\n",
    "print(\"Enter Mark of sub3 : \");\n",
    "sub3 = int(input());\n",
    "print(\"Enter Mark of sub4 : \");\n",
    "sub4 = int(input());\n",
    "print(\"Enter Mark of sub5 : \");\n",
    "sub5 = int(input());\n",
    "total = sub1+sub2+sub3+sub4+sub5;\n",
    "p = total/5;\n",
    "print(\"Total is \",total,\"Percentage is\",p,\"%\")"
   ]
  },
  {
   "cell_type": "markdown",
   "metadata": {},
   "source": [
    "### 12) Compute distance between two points taking input from the user (Pythagorean Theorem)."
   ]
  },
  {
   "cell_type": "code",
   "execution_count": 57,
   "metadata": {},
   "outputs": [
    {
     "name": "stdout",
     "output_type": "stream",
     "text": [
      "Enter x1 : \n",
      "1\n",
      "Enter x2 : \n",
      "1\n",
      "Enter y1 : \n",
      "1\n",
      "Enter y2 : \n",
      "1\n",
      "0.0\n"
     ]
    }
   ],
   "source": [
    "print(\"Enter x1 : \");\n",
    "x1 = int(input());\n",
    "print(\"Enter x2 : \");\n",
    "x2 = int(input());\n",
    "print(\"Enter y1 : \");\n",
    "y1 = int(input());\n",
    "print(\"Enter y2 : \");\n",
    "y2 = int(input());\n",
    "d = ((x1-x2)**2 + (y1-y2)**2)**0.5;\n",
    "print(d)"
   ]
  },
  {
   "cell_type": "markdown",
   "metadata": {},
   "source": [
    "### 13) WAP to convert seconds into hours, minutes & seconds and print in HH:MM:SS\n",
    "[e.g. 10000 seconds mean 2:46:40 (2 Hours, 46 Minutes, 40Seconds)]"
   ]
  },
  {
   "cell_type": "code",
   "execution_count": 49,
   "metadata": {},
   "outputs": [
    {
     "name": "stdout",
     "output_type": "stream",
     "text": [
      "Enter Seconds  : \n",
      "10000\n",
      "2 : 46 : 40\n"
     ]
    }
   ],
   "source": [
    "print(\"Enter Seconds  : \");\n",
    "sec = int(input());\n",
    "h=0;\n",
    "m=0;\n",
    "s=0;\n",
    "\n",
    "# h = sec // 3600;\n",
    "# sec = sec - h*3600;\n",
    "# m = sec // 60;\n",
    "# sec = sec - m*60;\n",
    "\n",
    "while(sec>3600):\n",
    "    sec = sec-3600\n",
    "    h += 1\n",
    "while(sec>60):\n",
    "    sec = sec-60\n",
    "    m += 1\n",
    "print(h,\":\",m,\":\",sec);"
   ]
  },
  {
   "cell_type": "markdown",
   "metadata": {},
   "source": [
    "### 14) WAP to enter distance into kilometer and convert it into meter, feet,inches, and centimeter"
   ]
  },
  {
   "cell_type": "code",
   "execution_count": 53,
   "metadata": {},
   "outputs": [
    {
     "name": "stdout",
     "output_type": "stream",
     "text": [
      "Enter Km : \n",
      "1\n",
      "meter :  1000 \n",
      "feet :  3280.84 \n",
      "inches :  39370.1 \n",
      "centimeter :  100000\n"
     ]
    }
   ],
   "source": [
    "print(\"Enter Km : \");\n",
    "km = int(input());\n",
    "meter = km * 1000;\n",
    "feet = km * 3280.84;\n",
    "inches = km * 39370.1;\n",
    "cen = km * 100000;\n",
    "print(\"meter : \",meter,\"\\nfeet : \",feet,\"\\ninches : \",inches,\"\\ncentimeter : \",cen);"
   ]
  }
 ],
 "metadata": {
  "kernelspec": {
   "display_name": "Python 3 (ipykernel)",
   "language": "python",
   "name": "python3"
  },
  "language_info": {
   "codemirror_mode": {
    "name": "ipython",
    "version": 3
   },
   "file_extension": ".py",
   "mimetype": "text/x-python",
   "name": "python",
   "nbconvert_exporter": "python",
   "pygments_lexer": "ipython3",
   "version": "3.9.7"
  }
 },
 "nbformat": 4,
 "nbformat_minor": 4
}
